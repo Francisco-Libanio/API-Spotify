{
 "cells": [
  {
   "cell_type": "markdown",
   "id": "6c76f9c3",
   "metadata": {},
   "source": [
    "# Usando spotipy"
   ]
  },
  {
   "cell_type": "code",
   "execution_count": null,
   "id": "c0d5c62b",
   "metadata": {},
   "outputs": [],
   "source": [
    "#Instalando a biblioteca \n",
    "!pip install spotipy"
   ]
  },
  {
   "cell_type": "code",
   "execution_count": 21,
   "id": "59204dfd",
   "metadata": {},
   "outputs": [],
   "source": [
    "from pprint import pprint"
   ]
  },
  {
   "cell_type": "code",
   "execution_count": 22,
   "id": "11b59838",
   "metadata": {},
   "outputs": [],
   "source": [
    "import pandas as pd\n",
    "import spotipy\n",
    "from spotipy.oauth2 import SpotifyClientCredentials\n",
    "\n",
    "# Configurar as credenciais do cliente do Spotify\n",
    "client_id = 'SEU_CLIENT_ID'\n",
    "client_secret = 'SEU_CLIENT_SECRET'\n",
    "client_credentials_manager = SpotifyClientCredentials(client_id=client_id, client_secret=client_secret)\n",
    "sp = spotipy.Spotify(client_credentials_manager=client_credentials_manager)"
   ]
  },
  {
   "cell_type": "code",
   "execution_count": null,
   "id": "64eed9b4",
   "metadata": {},
   "outputs": [],
   "source": [
    "# Defina o ano que deseja buscar as músicas\n",
    "decadas=[2000,2001,2002,2003,2004,2005,2006,2007,2008,2009,2010,2011,2012,2013,2014,2015,2016,2017,2018,2019,2020,2021,2022]\n",
    "Lista_total =[]\n",
    "anos_consulta =[]\n",
    "\n",
    "for ano in decadas:    \n",
    "    anos_especifico = ano  # Substitua pelo ano desejado\n",
    "\n",
    "# Realize a busca pela playlist de top músicas do Brasil em um ano específico\n",
    "    busca_playlist = sp.search(q=f'top 50 Brazil {ano_especifico}', type='playlist', limit=1)\n",
    "\n",
    "#pprint(busca_playlist)\n",
    "    id = busca_playlist['playlists']['items'][0]['id']\n",
    "    # Consultar a playlist utilizando o Spotipy\n",
    "    playlist = sp.playlist_tracks(id)\n",
    "\n",
    "\n",
    "    for item in playlist['items']:\n",
    "        faixa = item['track']\n",
    "        tempo_ms = faixa['duration_ms']\n",
    "\n",
    "        # Converter milissegundos para minutos e segundos\n",
    "        minutos = tempo_ms // 60000  # 1 minuto = 60000 milissegundos\n",
    "        segundos = (tempo_ms % 60000) // 1000  # O restante são os segundos\n",
    "\n",
    "        # Formatando o tempo em minutos e segundos juntos (ex: '4:30')\n",
    "        tempo_formatado = f'{minutos}:{segundos:02}'  # O ':02' garante que os segundos tenham sempre dois dígitos\n",
    "\n",
    "        # Obtendo os artistas da música\n",
    "        artistas = faixa['artists']\n",
    "        generos = []\n",
    "\n",
    "        # Iterando pelos artistas para obter os gêneros associados\n",
    "        for artista in artistas:\n",
    "            # Pesquisar informações sobre o artista\n",
    "            artista_info = sp.artist(artista['id'])\n",
    "\n",
    "            # Coletar gêneros associados ao artista\n",
    "            generos.extend(artista_info['genres'])\n",
    "\n",
    "        # Se houver gêneros associados aos artistas, pegue o primeiro gênero da lista\n",
    "        genero_musical = generos[0] if generos else 'Desconhecido'\n",
    "\n",
    "        info_faixa = {\n",
    "            'nome_da_muc': faixa['name'],\n",
    "            'Artista': artistas[0]['name'],\n",
    "            'tempo': tempo_formatado,\n",
    "            'album': faixa['album']['name'],\n",
    "            'Data_de_lançamento': faixa['album']['release_date'],\n",
    "            'Gênero': genero_musical\n",
    "            \n",
    "        }\n",
    "\n",
    "        Lista_total.append(info_faixa)\n",
    "        anos_consulta.append(ano)\n",
    "\n",
    "df_playlist = pd.DataFrame(Lista_total)\n",
    "df_playlist['Ano'] = anos_consulta\n",
    "display(df_playlist)\n",
    "print(df_playlist.shape)"
   ]
  },
  {
   "cell_type": "code",
   "execution_count": 29,
   "id": "74b1ccce",
   "metadata": {},
   "outputs": [],
   "source": [
    "#ESTE BLOCO DE CÓDIGO GARAVA TODO O DATAFRAME DE UMA VEZ \n",
    "\n",
    "#Importanto bibliotecas necessárias\n",
    "import gspread\n",
    "from oauth2client.service_account import ServiceAccountCredentials\n",
    "\n",
    "#Escopo utilizado\n",
    "scope = ['https://spreadsheets.google.com/feeds']\n",
    "\n",
    "#Dados de autenticação\n",
    "credentials = ServiceAccountCredentials.from_json_keyfile_name('arquivo com suas credenciais.json', scope)\n",
    "\n",
    "#Autenticando \n",
    "gc = gspread.authorize(credentials)\n",
    "\n",
    "#Abrindo a planilha\n",
    "wks = gc.open_by_key('coloque aqui o ID da sua planilha')\n",
    "\n",
    "#Selecionando a primeira página da planilha\n",
    "worksheet = wks.get_worksheet(0)\n",
    "\n",
    "#Atualizando página\n",
    "#worksheet.update_acell('a1','Funciona :D')\n",
    "from gspread_dataframe import get_as_dataframe, set_with_dataframe\n",
    "\n",
    "\n",
    "set_with_dataframe(worksheet, df_playlist)\n"
   ]
  },
  {
   "cell_type": "code",
   "execution_count": 37,
   "id": "6e320c01",
   "metadata": {},
   "outputs": [
    {
     "name": "stdout",
     "output_type": "stream",
     "text": [
      "'Brasil Anos 2000'\n"
     ]
    }
   ],
   "source": [
    "pprint(busca_playlist['playlists']['items'][0]['name'])\n",
    "print(busca_playlist)"
   ]
  }
 ],
 "metadata": {
  "kernelspec": {
   "display_name": "Python 3 (ipykernel)",
   "language": "python",
   "name": "python3"
  },
  "language_info": {
   "codemirror_mode": {
    "name": "ipython",
    "version": 3
   },
   "file_extension": ".py",
   "mimetype": "text/x-python",
   "name": "python",
   "nbconvert_exporter": "python",
   "pygments_lexer": "ipython3",
   "version": "3.9.12"
  }
 },
 "nbformat": 4,
 "nbformat_minor": 5
}
